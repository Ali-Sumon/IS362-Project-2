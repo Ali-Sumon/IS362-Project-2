{
 "cells": [
  {
   "cell_type": "markdown",
   "id": "5e43a019",
   "metadata": {},
   "source": [
    "Part 1: This untidy data has the test scores for the students.\n",
    "    This data shows the scores for 5 students for 1st exam for each term in 3 differnt terms. "
   ]
  },
  {
   "cell_type": "code",
   "execution_count": 4,
   "id": "b1dbc83f",
   "metadata": {},
   "outputs": [
    {
     "data": {
      "text/html": [
       "<div>\n",
       "<style scoped>\n",
       "    .dataframe tbody tr th:only-of-type {\n",
       "        vertical-align: middle;\n",
       "    }\n",
       "\n",
       "    .dataframe tbody tr th {\n",
       "        vertical-align: top;\n",
       "    }\n",
       "\n",
       "    .dataframe thead th {\n",
       "        text-align: right;\n",
       "    }\n",
       "</style>\n",
       "<table border=\"1\" class=\"dataframe\">\n",
       "  <thead>\n",
       "    <tr style=\"text-align: right;\">\n",
       "      <th></th>\n",
       "      <th>ID</th>\n",
       "      <th>Name</th>\n",
       "      <th>Phone</th>\n",
       "      <th>Sex and age</th>\n",
       "      <th>test number</th>\n",
       "      <th>term 1</th>\n",
       "      <th>term 2</th>\n",
       "      <th>term3</th>\n",
       "    </tr>\n",
       "  </thead>\n",
       "  <tbody>\n",
       "    <tr>\n",
       "      <th>0</th>\n",
       "      <td>1</td>\n",
       "      <td>Emily</td>\n",
       "      <td>110</td>\n",
       "      <td>F_14</td>\n",
       "      <td>1</td>\n",
       "      <td>90</td>\n",
       "      <td>95</td>\n",
       "      <td>90</td>\n",
       "    </tr>\n",
       "    <tr>\n",
       "      <th>1</th>\n",
       "      <td>2</td>\n",
       "      <td>Sarah</td>\n",
       "      <td>718</td>\n",
       "      <td>F_12</td>\n",
       "      <td>1</td>\n",
       "      <td>80</td>\n",
       "      <td>75</td>\n",
       "      <td>94</td>\n",
       "    </tr>\n",
       "    <tr>\n",
       "      <th>2</th>\n",
       "      <td>3</td>\n",
       "      <td>John</td>\n",
       "      <td>646</td>\n",
       "      <td>M_10</td>\n",
       "      <td>1</td>\n",
       "      <td>70</td>\n",
       "      <td>80</td>\n",
       "      <td>92</td>\n",
       "    </tr>\n",
       "    <tr>\n",
       "      <th>3</th>\n",
       "      <td>4</td>\n",
       "      <td>Hannah</td>\n",
       "      <td>200</td>\n",
       "      <td>F_13</td>\n",
       "      <td>1</td>\n",
       "      <td>80</td>\n",
       "      <td>90</td>\n",
       "      <td>80</td>\n",
       "    </tr>\n",
       "    <tr>\n",
       "      <th>4</th>\n",
       "      <td>5</td>\n",
       "      <td>Ali</td>\n",
       "      <td>917</td>\n",
       "      <td>M_12</td>\n",
       "      <td>1</td>\n",
       "      <td>85</td>\n",
       "      <td>90</td>\n",
       "      <td>95</td>\n",
       "    </tr>\n",
       "  </tbody>\n",
       "</table>\n",
       "</div>"
      ],
      "text/plain": [
       "   ID    Name  Phone Sex and age  test number  term 1  term 2  term3\n",
       "0   1   Emily    110        F_14            1      90      95     90\n",
       "1   2   Sarah    718        F_12            1      80      75     94\n",
       "2   3    John    646        M_10            1      70      80     92\n",
       "3   4  Hannah    200        F_13            1      80      90     80\n",
       "4   5     Ali    917        M_12            1      85      90     95"
      ]
     },
     "execution_count": 4,
     "metadata": {},
     "output_type": "execute_result"
    }
   ],
   "source": [
    "import pandas as pd\n",
    "#read in untidy data csv as a pandas dataframe object\n",
    "student_testing_df = pd.read_csv('/Users/aliahsansumon/Desktop/Project 2 IS-362/Test scores.csv')\n",
    "\n",
    "#read first 5 rows to check that dataframe was created\n",
    "student_testing_df.head()"
   ]
  },
  {
   "cell_type": "markdown",
   "id": "d2fbcf03",
   "metadata": {},
   "source": [
    "# This data for the students and thier test scores is very untidy, because it shows ID numbers and the names, plus \n",
    "their phone numbers in different columns and sex and age which is very unclear and confusing to interpret.\n",
    "So we have to tidy the data in a way that is is clear the gender of the student next to their name and their \n",
    "test scores."
   ]
  },
  {
   "cell_type": "code",
   "execution_count": 5,
   "id": "c214ce62",
   "metadata": {},
   "outputs": [
    {
     "data": {
      "text/html": [
       "<div>\n",
       "<style scoped>\n",
       "    .dataframe tbody tr th:only-of-type {\n",
       "        vertical-align: middle;\n",
       "    }\n",
       "\n",
       "    .dataframe tbody tr th {\n",
       "        vertical-align: top;\n",
       "    }\n",
       "\n",
       "    .dataframe thead th {\n",
       "        text-align: right;\n",
       "    }\n",
       "</style>\n",
       "<table border=\"1\" class=\"dataframe\">\n",
       "  <thead>\n",
       "    <tr style=\"text-align: right;\">\n",
       "      <th></th>\n",
       "      <th>ID</th>\n",
       "      <th>Name</th>\n",
       "      <th>Phone</th>\n",
       "      <th>Sex</th>\n",
       "      <th>Age</th>\n",
       "    </tr>\n",
       "  </thead>\n",
       "  <tbody>\n",
       "    <tr>\n",
       "      <th>0</th>\n",
       "      <td>1</td>\n",
       "      <td>Emily</td>\n",
       "      <td>110</td>\n",
       "      <td>F</td>\n",
       "      <td>14</td>\n",
       "    </tr>\n",
       "    <tr>\n",
       "      <th>1</th>\n",
       "      <td>2</td>\n",
       "      <td>Sarah</td>\n",
       "      <td>718</td>\n",
       "      <td>F</td>\n",
       "      <td>12</td>\n",
       "    </tr>\n",
       "    <tr>\n",
       "      <th>2</th>\n",
       "      <td>3</td>\n",
       "      <td>John</td>\n",
       "      <td>646</td>\n",
       "      <td>M</td>\n",
       "      <td>10</td>\n",
       "    </tr>\n",
       "    <tr>\n",
       "      <th>3</th>\n",
       "      <td>4</td>\n",
       "      <td>Hannah</td>\n",
       "      <td>200</td>\n",
       "      <td>F</td>\n",
       "      <td>13</td>\n",
       "    </tr>\n",
       "    <tr>\n",
       "      <th>4</th>\n",
       "      <td>5</td>\n",
       "      <td>Ali</td>\n",
       "      <td>917</td>\n",
       "      <td>M</td>\n",
       "      <td>12</td>\n",
       "    </tr>\n",
       "  </tbody>\n",
       "</table>\n",
       "</div>"
      ],
      "text/plain": [
       "   ID    Name  Phone Sex Age\n",
       "0   1   Emily    110   F  14\n",
       "1   2   Sarah    718   F  12\n",
       "2   3    John    646   M  10\n",
       "3   4  Hannah    200   F  13\n",
       "4   5     Ali    917   M  12"
      ]
     },
     "execution_count": 5,
     "metadata": {},
     "output_type": "execute_result"
    }
   ],
   "source": [
    "#split the dataframe into two separate tables, one for students and one for the grades\n",
    "students_df = student_testing_df[['ID', 'Name', 'Phone', 'Sex and age']].copy() # make a copy to avoid warning\n",
    "test_grades_df = student_testing_df[['ID', 'test number', 'term 1', 'term 2', 'term3']]\n",
    "\n",
    "# Split single column into two columns\n",
    "students_df[['Sex', 'Age']] = students_df['Sex and age'].str.split(\"_\", expand=True)\n",
    "\n",
    "# modify original dataframe using .loc accessor\n",
    "students_df.loc[:, ['Sex', 'Age']] = students_df[['Sex', 'Age']]\n",
    "\n",
    "# drop the original 'sex and age' column\n",
    "students_df.drop('Sex and age', axis=1, inplace=True)\n",
    "\n",
    "#Check the dataframe\n",
    "students_df.head()"
   ]
  },
  {
   "cell_type": "code",
   "execution_count": 6,
   "id": "0902360c",
   "metadata": {},
   "outputs": [
    {
     "name": "stdout",
     "output_type": "stream",
     "text": [
      "   ID  test number  term 1  term 2  term3\n",
      "0   1            1      90      95     90\n",
      "1   2            1      80      75     94\n",
      "2   3            1      70      80     92\n",
      "3   4            1      80      90     80\n",
      "4   5            1      85      90     95\n"
     ]
    }
   ],
   "source": [
    "# The dataframe for the test dataframe is not very large, we can print the whole thing to see the data\n",
    "print(test_grades_df)"
   ]
  },
  {
   "cell_type": "code",
   "execution_count": 7,
   "id": "fdfb52c0",
   "metadata": {},
   "outputs": [],
   "source": [
    "tidy_grades_df = test_grades_df.melt(id_vars = ['ID', 'test number'], value_vars = ['term 1', 'term 2', 'term3'], \n",
    "                                     var_name ='term', value_name ='score')"
   ]
  },
  {
   "cell_type": "code",
   "execution_count": 8,
   "id": "14999ad4",
   "metadata": {},
   "outputs": [
    {
     "name": "stdout",
     "output_type": "stream",
     "text": [
      "    ID  test number    term  score\n",
      "0    1            1  term 1     90\n",
      "1    2            1  term 1     80\n",
      "2    3            1  term 1     70\n",
      "3    4            1  term 1     80\n",
      "4    5            1  term 1     85\n",
      "5    1            1  term 2     95\n",
      "6    2            1  term 2     75\n",
      "7    3            1  term 2     80\n",
      "8    4            1  term 2     90\n",
      "9    5            1  term 2     90\n",
      "10   1            1   term3     90\n",
      "11   2            1   term3     94\n",
      "12   3            1   term3     92\n",
      "13   4            1   term3     80\n",
      "14   5            1   term3     95\n"
     ]
    }
   ],
   "source": [
    "#now we have a long format dataframe for test grades:\n",
    "print(tidy_grades_df)"
   ]
  },
  {
   "cell_type": "markdown",
   "id": "7162cb72",
   "metadata": {},
   "source": [
    "Now the data is tidy and it shows the scores for the students."
   ]
  },
  {
   "cell_type": "markdown",
   "id": "7cde4677",
   "metadata": {},
   "source": [
    "# Population Data for the 4 countries U.S, China, Bangladesh and Russia for the years 2,000, 2010, 2020."
   ]
  },
  {
   "cell_type": "code",
   "execution_count": 9,
   "id": "9aeacf08",
   "metadata": {
    "scrolled": true
   },
   "outputs": [
    {
     "data": {
      "text/html": [
       "<div>\n",
       "<style scoped>\n",
       "    .dataframe tbody tr th:only-of-type {\n",
       "        vertical-align: middle;\n",
       "    }\n",
       "\n",
       "    .dataframe tbody tr th {\n",
       "        vertical-align: top;\n",
       "    }\n",
       "\n",
       "    .dataframe thead th {\n",
       "        text-align: right;\n",
       "    }\n",
       "</style>\n",
       "<table border=\"1\" class=\"dataframe\">\n",
       "  <thead>\n",
       "    <tr style=\"text-align: right;\">\n",
       "      <th></th>\n",
       "      <th>Country</th>\n",
       "      <th>2000</th>\n",
       "      <th>2010</th>\n",
       "      <th>2020</th>\n",
       "    </tr>\n",
       "  </thead>\n",
       "  <tbody>\n",
       "    <tr>\n",
       "      <th>0</th>\n",
       "      <td>United States</td>\n",
       "      <td>282,200,000</td>\n",
       "      <td>309,300,000</td>\n",
       "      <td>329,500,000</td>\n",
       "    </tr>\n",
       "    <tr>\n",
       "      <th>1</th>\n",
       "      <td>China</td>\n",
       "      <td>1,263,000,000</td>\n",
       "      <td>1,338,000,000</td>\n",
       "      <td>1,411,000,000</td>\n",
       "    </tr>\n",
       "    <tr>\n",
       "      <th>2</th>\n",
       "      <td>Bangladesh</td>\n",
       "      <td>129,193,327</td>\n",
       "      <td>148,391,139</td>\n",
       "      <td>167,420,951</td>\n",
       "    </tr>\n",
       "    <tr>\n",
       "      <th>3</th>\n",
       "      <td>Russia</td>\n",
       "      <td>146,600,000</td>\n",
       "      <td>142,800,000</td>\n",
       "      <td>144,100,000</td>\n",
       "    </tr>\n",
       "  </tbody>\n",
       "</table>\n",
       "</div>"
      ],
      "text/plain": [
       "         Country           2000           2010           2020\n",
       "0  United States    282,200,000    309,300,000    329,500,000\n",
       "1          China  1,263,000,000  1,338,000,000  1,411,000,000\n",
       "2     Bangladesh    129,193,327    148,391,139    167,420,951\n",
       "3         Russia    146,600,000    142,800,000    144,100,000"
      ]
     },
     "execution_count": 9,
     "metadata": {},
     "output_type": "execute_result"
    }
   ],
   "source": [
    "#read in untidy data csv as a pandas dataframe object\n",
    "populations_df = pd.read_csv('/Users/aliahsansumon/Desktop/Project 2 IS-362/population.csv')\n",
    "\n",
    "populations_df.head()"
   ]
  },
  {
   "cell_type": "markdown",
   "id": "ff1ffb84",
   "metadata": {},
   "source": [
    "Now I have to tidy the data so that the countries and years and populations are on separate columns."
   ]
  },
  {
   "cell_type": "code",
   "execution_count": 11,
   "id": "94bf4266",
   "metadata": {},
   "outputs": [
    {
     "data": {
      "text/html": [
       "<div>\n",
       "<style scoped>\n",
       "    .dataframe tbody tr th:only-of-type {\n",
       "        vertical-align: middle;\n",
       "    }\n",
       "\n",
       "    .dataframe tbody tr th {\n",
       "        vertical-align: top;\n",
       "    }\n",
       "\n",
       "    .dataframe thead th {\n",
       "        text-align: right;\n",
       "    }\n",
       "</style>\n",
       "<table border=\"1\" class=\"dataframe\">\n",
       "  <thead>\n",
       "    <tr style=\"text-align: right;\">\n",
       "      <th></th>\n",
       "      <th>Country</th>\n",
       "      <th>Year</th>\n",
       "      <th>Population</th>\n",
       "    </tr>\n",
       "  </thead>\n",
       "  <tbody>\n",
       "    <tr>\n",
       "      <th>0</th>\n",
       "      <td>United States</td>\n",
       "      <td>2000</td>\n",
       "      <td>282,200,000</td>\n",
       "    </tr>\n",
       "    <tr>\n",
       "      <th>1</th>\n",
       "      <td>China</td>\n",
       "      <td>2000</td>\n",
       "      <td>1,263,000,000</td>\n",
       "    </tr>\n",
       "    <tr>\n",
       "      <th>2</th>\n",
       "      <td>Bangladesh</td>\n",
       "      <td>2000</td>\n",
       "      <td>129,193,327</td>\n",
       "    </tr>\n",
       "    <tr>\n",
       "      <th>3</th>\n",
       "      <td>Russia</td>\n",
       "      <td>2000</td>\n",
       "      <td>146,600,000</td>\n",
       "    </tr>\n",
       "    <tr>\n",
       "      <th>4</th>\n",
       "      <td>United States</td>\n",
       "      <td>2010</td>\n",
       "      <td>309,300,000</td>\n",
       "    </tr>\n",
       "  </tbody>\n",
       "</table>\n",
       "</div>"
      ],
      "text/plain": [
       "         Country  Year     Population\n",
       "0  United States  2000    282,200,000\n",
       "1          China  2000  1,263,000,000\n",
       "2     Bangladesh  2000    129,193,327\n",
       "3         Russia  2000    146,600,000\n",
       "4  United States  2010    309,300,000"
      ]
     },
     "execution_count": 11,
     "metadata": {},
     "output_type": "execute_result"
    }
   ],
   "source": [
    "tidy_populations_df = populations_df.melt(id_vars ='Country', var_name ='Year', value_name ='Population')\n",
    "\n",
    "tidy_populations_df.head()"
   ]
  },
  {
   "cell_type": "markdown",
   "id": "f09c18c9",
   "metadata": {},
   "source": [
    "In conclusion, I have learned how to tidy some untidy data sets."
   ]
  }
 ],
 "metadata": {
  "kernelspec": {
   "display_name": "Python 3 (ipykernel)",
   "language": "python",
   "name": "python3"
  },
  "language_info": {
   "codemirror_mode": {
    "name": "ipython",
    "version": 3
   },
   "file_extension": ".py",
   "mimetype": "text/x-python",
   "name": "python",
   "nbconvert_exporter": "python",
   "pygments_lexer": "ipython3",
   "version": "3.9.13"
  }
 },
 "nbformat": 4,
 "nbformat_minor": 5
}
